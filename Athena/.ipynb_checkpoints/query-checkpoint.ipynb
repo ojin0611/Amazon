{
 "cells": [
  {
   "cell_type": "markdown",
   "metadata": {},
   "source": [
    "# run_query 함수 정의"
   ]
  },
  {
   "cell_type": "code",
   "execution_count": 1,
   "metadata": {},
   "outputs": [],
   "source": [
    "import boto3\n",
    "#Function for starting athena query\n",
    "def run_query(query, database, s3_output):\n",
    "    client = boto3.client('athena')\n",
    "    response = client.start_query_execution(\n",
    "        QueryString=query,\n",
    "        QueryExecutionContext={\n",
    "            'Database': database\n",
    "            },\n",
    "        ResultConfiguration={\n",
    "            'OutputLocation': s3_output,\n",
    "            }\n",
    "        )\n",
    "    print('Execution ID: ' + response['QueryExecutionId'])\n",
    "    return response"
   ]
  },
  {
   "cell_type": "markdown",
   "metadata": {},
   "source": [
    "# input, output bucket, database, table 설정"
   ]
  },
  {
   "cell_type": "code",
   "execution_count": 2,
   "metadata": {},
   "outputs": [],
   "source": [
    "s3_input = 's3://cosmee-productbarcode/csv/'\n",
    "s3_output = 's3://cosmee-productbarcode/csv/'\n",
    "\n",
    "database = 'cosmee'\n",
    "table = 'users'"
   ]
  },
  {
   "cell_type": "markdown",
   "metadata": {},
   "source": [
    "# Query definitions"
   ]
  },
  {
   "cell_type": "markdown",
   "metadata": {},
   "source": [
    "### create query"
   ]
  },
  {
   "cell_type": "code",
   "execution_count": null,
   "metadata": {},
   "outputs": [],
   "source": [
    " \n",
    "create_database = \"CREATE DATABASE IF NOT EXISTS %s;\" % (database)\n",
    "\n",
    "create_table = \\\n",
    "    \"\"\"CREATE EXTERNAL TABLE IF NOT EXISTS %s.%s (\n",
    "    BARCODE STRING,\n",
    "    PRNM STRING,\n",
    "    GLN STRING,\n",
    "    CONAMEK STRING,\n",
    "    CLASSCODE STRING,\n",
    "    CLASSNAME4 STRING \n",
    " )\n",
    " ROW FORMAT SERDE 'org.openx.data.jsonserde.JsonSerDe'\n",
    " WITH SERDEPROPERTIES (\n",
    " 'serialization.format' = '1'\n",
    " ) LOCATION '%s'\n",
    " TBLPROPERTIES ('has_encrypted_data'='false');\"\"\" % ( database, table, s3_input )"
   ]
  },
  {
   "cell_type": "markdown",
   "metadata": {},
   "source": [
    "### user query"
   ]
  },
  {
   "cell_type": "code",
   "execution_count": 3,
   "metadata": {},
   "outputs": [],
   "source": [
    "query_1 = \"SELECT * FROM %s.%s;\" % (database, table)\n",
    "query_2 = \"select basicskininfo, profileproperties from %s.%s\" % (database, table)"
   ]
  },
  {
   "cell_type": "markdown",
   "metadata": {},
   "source": [
    "# 실행할 쿼리 설정"
   ]
  },
  {
   "cell_type": "code",
   "execution_count": 4,
   "metadata": {},
   "outputs": [
    {
     "name": "stdout",
     "output_type": "stream",
     "text": [
      "Executing query: SELECT * FROM cosmee.users;\n",
      "Execution ID: 7a9aa298-e345-4f0e-919e-075609737cf8\n",
      "Executing query: select basicskininfo, profileproperties from cosmee.users\n",
      "Execution ID: ea5e27b8-334f-4e32-9209-31575ddf625d\n"
     ]
    }
   ],
   "source": [
    "# queries = [ create_database, create_table, query_1, query_2 ]\n",
    "queries = [query_1, query_2 ]\n",
    "for q in queries:\n",
    "   print(\"Executing query: %s\" % (q))\n",
    "   res = run_query(q, database, s3_output)"
   ]
  },
  {
   "cell_type": "code",
   "execution_count": null,
   "metadata": {},
   "outputs": [],
   "source": []
  }
 ],
 "metadata": {
  "kernelspec": {
   "display_name": "Python 3",
   "language": "python",
   "name": "python3"
  },
  "language_info": {
   "codemirror_mode": {
    "name": "ipython",
    "version": 3
   },
   "file_extension": ".py",
   "mimetype": "text/x-python",
   "name": "python",
   "nbconvert_exporter": "python",
   "pygments_lexer": "ipython3",
   "version": "3.7.0"
  }
 },
 "nbformat": 4,
 "nbformat_minor": 2
}
