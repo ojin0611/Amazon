{
 "cells": [
  {
   "cell_type": "markdown",
   "metadata": {},
   "source": [
    "## change text into json file"
   ]
  },
  {
   "cell_type": "code",
   "execution_count": 4,
   "metadata": {},
   "outputs": [],
   "source": [
    "import txt2json as tj\n",
    "\n",
    "# print(tj.search_dir(mydir))\n",
    "dir_name  = 'C:/Users/dongm/COSMOCHAIN/'\n",
    "file_name = 'addData.txt'\n",
    "# file_name = 'addData.txt'\n",
    "json_name= 'test2.json'"
   ]
  },
  {
   "cell_type": "code",
   "execution_count": 5,
   "metadata": {},
   "outputs": [
    {
     "name": "stdout",
     "output_type": "stream",
     "text": [
      "JSON file save complete!\n"
     ]
    }
   ],
   "source": [
    "# 첫줄에서 속성 따오기\n",
    "colNames = tj.getColNames(dir_name, file_name)\n",
    "\n",
    "# save_type = True로 하면 예쁘게 json 저장\n",
    "# end_cnt = 저장할 line 개수\n",
    "jsonString = tj.getJSONfromTxt(dir_name, file_name, colNames, save_type=False,end_cnt=0)\n",
    "\n",
    "# json file로 저장\n",
    "tj.writeJSON(jsonString,output_name=dir_name + json_name)"
   ]
  },
  {
   "cell_type": "markdown",
   "metadata": {},
   "source": [
    "# compare text and json"
   ]
  },
  {
   "cell_type": "code",
   "execution_count": 6,
   "metadata": {},
   "outputs": [
    {
     "name": "stdout",
     "output_type": "stream",
     "text": [
      "--------JSON Summary--------\n",
      "JSON 항목 개수: 24\n",
      "각 항목의 속성이 6개 모두 있는 개수: 24\n",
      "--------Text Summary--------\n",
      "텍스트에서 시작이 BARCODE(숫자)인 line 개수: 24\n",
      "개행문자 신경 안쓰고 읽을 때 line 개수: 29\n"
     ]
    }
   ],
   "source": [
    "tj.compareTxtJSON(dir_name,file_name,json_name)"
   ]
  },
  {
   "cell_type": "markdown",
   "metadata": {},
   "source": [
    "## 만들때는 콘솔로, 밀어넣을 때는 loadData.py 이용"
   ]
  },
  {
   "cell_type": "code",
   "execution_count": null,
   "metadata": {},
   "outputs": [],
   "source": []
  }
 ],
 "metadata": {
  "kernelspec": {
   "display_name": "Python 3",
   "language": "python",
   "name": "python3"
  },
  "language_info": {
   "codemirror_mode": {
    "name": "ipython",
    "version": 3
   },
   "file_extension": ".py",
   "mimetype": "text/x-python",
   "name": "python",
   "nbconvert_exporter": "python",
   "pygments_lexer": "ipython3",
   "version": "3.7.0"
  }
 },
 "nbformat": 4,
 "nbformat_minor": 2
}
